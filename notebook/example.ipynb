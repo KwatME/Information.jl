{
 "cells": [
  {
   "cell_type": "code",
   "execution_count": null,
   "metadata": {},
   "outputs": [],
   "source": [
    "using BenchmarkTools\n",
    "using KernelDensity\n",
    "using Plotly\n",
    "\n",
    "using Information\n",
    "using Kraft"
   ]
  },
  {
   "cell_type": "code",
   "execution_count": null,
   "metadata": {},
   "outputs": [],
   "source": [
    "function plot_v_(v_; name_=[index for index in 1:length(v_)])\n",
    "    n = length(v_)\n",
    "    trace_ = [Dict{String, Any}() for index in 1:n]\n",
    "    for index in 1:n\n",
    "        trace_[index][\"y\"] = v_[index]\n",
    "        trace_[index][\"name\"] = name_[index]\n",
    "    end\n",
    "    data = [scatter(trace) for trace in trace_]\n",
    "    display(plot(data))\n",
    "end"
   ]
  },
  {
   "cell_type": "code",
   "execution_count": null,
   "metadata": {},
   "outputs": [],
   "source": [
    "for (v_1, v_2) in (\n",
    "    (\n",
    "        [1,1,1],\n",
    "        [1,1,1],\n",
    "    ),\n",
    "    (\n",
    "        [1,2,3],\n",
    "        [10, 20, 30],\n",
    "    ),\n",
    ")\n",
    "    \n",
    "    plot_v_((v_1, v_2))\n",
    "    \n",
    "    plot_v_(\n",
    "        (\n",
    "            compute_kld(v_1, v_2),\n",
    "            compute_jsd(v_1, v_2),\n",
    "            compute_zd(v_1, v_2),\n",
    "        );\n",
    "        name_=(\"KLD\", \"JSD\", \"ZD\"),\n",
    "    )\n",
    "    \n",
    "end"
   ]
  },
  {
   "cell_type": "code",
   "execution_count": null,
   "metadata": {},
   "outputs": [],
   "source": [
    "for (v_1, v_2) in (\n",
    "    (\n",
    "        shift_minimum(randn(100), \"0<\"),\n",
    "        shift_minimum(randn(100), \"0<\"),\n",
    "    ),\n",
    "    (),\n",
    ")\n",
    "    \n",
    "    u_1 = kde(v_1)\n",
    "    \n",
    "    u_2 = kde(v_2)\n",
    "    \n",
    "    u_d_1 = u_1.density\n",
    "    \n",
    "    u_d_2 = u_2.density\n",
    "    \n",
    "    plot_v_((u_d_1, u_d_2))\n",
    "    \n",
    "    plot_v_(\n",
    "        (\n",
    "            compute_kld(v_1, v_2),\n",
    "            compute_jsd(v_1, v_2),\n",
    "            compute_zd(v_1, v_2),\n",
    "        );\n",
    "        name_=(\"KLD\", \"JSD\", \"ZD\"),\n",
    "    )\n",
    "    \n",
    "end"
   ]
  },
  {
   "cell_type": "code",
   "execution_count": null,
   "metadata": {},
   "outputs": [],
   "source": [
    "# TODO: if the size of a vector is less than 2, error\n",
    "# TODO: if the sizes of vectors are different, error"
   ]
  },
  {
   "cell_type": "code",
   "execution_count": null,
   "metadata": {},
   "outputs": [],
   "source": [
    "v_1 = collect(0:10)"
   ]
  },
  {
   "cell_type": "code",
   "execution_count": null,
   "metadata": {},
   "outputs": [],
   "source": [
    "v_2 = collect(0:10:100)"
   ]
  },
  {
   "cell_type": "code",
   "execution_count": null,
   "metadata": {},
   "outputs": [],
   "source": [
    "u = kde(v_1; npoints=8)"
   ]
  },
  {
   "cell_type": "code",
   "execution_count": null,
   "metadata": {},
   "outputs": [],
   "source": [
    "u.x"
   ]
  },
  {
   "cell_type": "code",
   "execution_count": null,
   "metadata": {},
   "outputs": [],
   "source": [
    "u.density"
   ]
  },
  {
   "cell_type": "code",
   "execution_count": null,
   "metadata": {},
   "outputs": [],
   "source": [
    "plot([scatter(x = u.x, y = u.density)])"
   ]
  },
  {
   "cell_type": "code",
   "execution_count": null,
   "metadata": {},
   "outputs": [],
   "source": [
    "kde((v_1, v_2); npoints=(8, 8))"
   ]
  }
 ],
 "metadata": {
  "kernelspec": {
   "display_name": "Julia 1.5.3",
   "language": "julia",
   "name": "julia-1.5"
  },
  "language_info": {
   "file_extension": ".jl",
   "mimetype": "application/julia",
   "name": "julia",
   "version": "1.5.3"
  }
 },
 "nbformat": 4,
 "nbformat_minor": 4
}
