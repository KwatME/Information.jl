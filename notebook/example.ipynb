{
 "cells": [
  {
   "cell_type": "code",
   "execution_count": null,
   "metadata": {},
   "outputs": [],
   "source": [
    "using Plotly\n",
    "using KernelDensity\n",
    "\n",
    "using Plot\n",
    "\n",
    "using Information"
   ]
  },
  {
   "cell_type": "code",
   "execution_count": null,
   "metadata": {},
   "outputs": [],
   "source": [
    "use_style!()"
   ]
  },
  {
   "cell_type": "markdown",
   "metadata": {},
   "source": [
    "## compute_s"
   ]
  },
  {
   "cell_type": "markdown",
   "metadata": {},
   "source": [
    "## compute_kld"
   ]
  },
  {
   "cell_type": "markdown",
   "metadata": {},
   "source": [
    "## compute_jsd"
   ]
  },
  {
   "cell_type": "markdown",
   "metadata": {},
   "source": [
    "## compute_zd"
   ]
  },
  {
   "cell_type": "code",
   "execution_count": null,
   "metadata": {},
   "outputs": [],
   "source": [
    "for (v_1, v_2) in (([1, 1, 1], [1, 1, 1]), ([1, 2, 3], [10, 20, 30]))\n",
    "    \n",
    "    v_1 = Float64.(v_1)\n",
    "    \n",
    "    v_2 = Float64.(v_2)\n",
    "    \n",
    "    display(plot_x_y((v_1, v_2)))\n",
    "    \n",
    "    display(plot_x_y((compute_kld(v_1, v_2), compute_jsd(v_1, v_2), compute_zd(v_1, v_2)); name_ = (\"KLD\", \"JSD\", \"ZD\")))\n",
    "    \n",
    "end"
   ]
  },
  {
   "cell_type": "code",
   "execution_count": null,
   "metadata": {},
   "outputs": [],
   "source": [
    "n = 100\n",
    "\n",
    "v_1 = shift_minimum(randn(n), \"0<\")\n",
    "\n",
    "v_1_shift = v_1 .+ 1\n",
    "\n",
    "v_2 = shift_minimum(randn(n), \"0<\")\n",
    "\n",
    "for (v_1, v_2) in ((v_1, v_1), (v_1, v_1_shift), (v_1, v_2))\n",
    "    \n",
    "    u_1 = kde(v_1)\n",
    "    \n",
    "    y_1 = u_1.density\n",
    "    \n",
    "    u_2 = kde(v_2)\n",
    "    \n",
    "    y_2 = u_2.density\n",
    "    \n",
    "    display(plot_x_y((collect(u_1.x), collect(u_2.x)), (y_1, y_2); layout = Layout(xaxis_title = \"Grid\", yaxis_title = \"Density\")))\n",
    "    \n",
    "    display(plot_x_y((compute_kld(y_1, y_2), compute_jsd(y_1, y_2), compute_zd(y_1, y_2)); name_ = (\"KLD\", \"JSD\", \"ZD\")))\n",
    "    \n",
    "end"
   ]
  },
  {
   "cell_type": "markdown",
   "metadata": {},
   "source": [
    "## compute_ic"
   ]
  },
  {
   "cell_type": "markdown",
   "metadata": {},
   "source": [
    "## compute_mi"
   ]
  },
  {
   "cell_type": "code",
   "execution_count": null,
   "metadata": {},
   "outputs": [],
   "source": [
    "v_1 = Float64.(0:10)"
   ]
  },
  {
   "cell_type": "code",
   "execution_count": null,
   "metadata": {},
   "outputs": [],
   "source": [
    "v_2 = Float64.(0:10:100)"
   ]
  },
  {
   "cell_type": "code",
   "execution_count": null,
   "metadata": {},
   "outputs": [],
   "source": [
    "b = kde((v_1, v_2); npoints = (8, 8))"
   ]
  },
  {
   "cell_type": "code",
   "execution_count": null,
   "metadata": {},
   "outputs": [],
   "source": [
    "x = collect(b.x)"
   ]
  },
  {
   "cell_type": "code",
   "execution_count": null,
   "metadata": {},
   "outputs": [],
   "source": [
    "y = collect(b.y)"
   ]
  },
  {
   "cell_type": "code",
   "execution_count": null,
   "metadata": {},
   "outputs": [],
   "source": [
    "z = b.density"
   ]
  }
 ],
 "metadata": {
  "kernelspec": {
   "display_name": "Julia 1.6.0",
   "language": "julia",
   "name": "julia-1.6"
  },
  "language_info": {
   "file_extension": ".jl",
   "mimetype": "application/julia",
   "name": "julia",
   "version": "1.6.0"
  }
 },
 "nbformat": 4,
 "nbformat_minor": 4
}
