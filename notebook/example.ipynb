{
 "cells": [
  {
   "cell_type": "code",
   "execution_count": null,
   "metadata": {},
   "outputs": [],
   "source": [
    "using BenchmarkTools\n",
    "using KernelDensity\n",
    "\n",
    "using Information\n",
    "using Kraft\n",
    "using Plot"
   ]
  },
  {
   "cell_type": "code",
   "execution_count": null,
   "metadata": {},
   "outputs": [],
   "source": [
    "for (v_1, v_2) in (([1, 1, 1], [1, 1, 1]), ([1, 2, 3], [10, 20, 30]))\n",
    "    plot_v_((v_1, v_2))\n",
    "\n",
    "    plot_v_(\n",
    "        (compute_kld(v_1, v_2), compute_jsd(v_1, v_2), compute_zd(v_1, v_2));\n",
    "        name_ = (\"KLD\", \"JSD\", \"ZD\"),\n",
    "    )\n",
    "\n",
    "end"
   ]
  },
  {
   "cell_type": "code",
   "execution_count": null,
   "metadata": {},
   "outputs": [],
   "source": [
    "for (v_1, v_2) in ((shift_minimum(randn(100), \"0<\"), shift_minimum(randn(100), \"0<\")),)\n",
    "    u_1 = kde(v_1)\n",
    "\n",
    "    u_2 = kde(v_2)\n",
    "\n",
    "    u_d_1 = u_1.density\n",
    "\n",
    "    u_d_2 = u_2.density\n",
    "\n",
    "    plot_v_((u_d_1, u_d_2))\n",
    "\n",
    "    plot_v_(\n",
    "        (compute_kld(u_d_1, u_d_2), compute_jsd(u_d_1, u_d_2), compute_zd(u_d_1, u_d_2));\n",
    "        name_ = (\"KLD\", \"JSD\", \"ZD\"),\n",
    "    )\n",
    "\n",
    "end"
   ]
  },
  {
   "cell_type": "code",
   "execution_count": null,
   "metadata": {},
   "outputs": [],
   "source": [
    "# TODO: if the size of a vector is less than 2, error\n",
    "# TODO: if the sizes of vectors are different, error"
   ]
  },
  {
   "cell_type": "code",
   "execution_count": null,
   "metadata": {},
   "outputs": [],
   "source": [
    "v_1 = collect(0:10)"
   ]
  },
  {
   "cell_type": "code",
   "execution_count": null,
   "metadata": {},
   "outputs": [],
   "source": [
    "v_2 = collect(0:10:100)"
   ]
  },
  {
   "cell_type": "code",
   "execution_count": null,
   "metadata": {},
   "outputs": [],
   "source": [
    "u = kde(v_1; npoints = 8)"
   ]
  },
  {
   "cell_type": "code",
   "execution_count": null,
   "metadata": {},
   "outputs": [],
   "source": [
    "u.x"
   ]
  },
  {
   "cell_type": "code",
   "execution_count": null,
   "metadata": {},
   "outputs": [],
   "source": [
    "u.density"
   ]
  },
  {
   "cell_type": "code",
   "execution_count": null,
   "metadata": {},
   "outputs": [],
   "source": [
    "kde((v_1, v_2); npoints = (8, 8))"
   ]
  }
 ],
 "metadata": {
  "kernelspec": {
   "display_name": "Julia 1.5.3",
   "language": "julia",
   "name": "julia-1.5"
  },
  "language_info": {
   "file_extension": ".jl",
   "mimetype": "application/julia",
   "name": "julia",
   "version": "1.5.3"
  }
 },
 "nbformat": 4,
 "nbformat_minor": 4
}
