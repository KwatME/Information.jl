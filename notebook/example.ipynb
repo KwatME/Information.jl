{
 "cells": [
  {
   "cell_type": "code",
   "execution_count": 4,
   "metadata": {},
   "outputs": [
    {
     "ename": "LoadError",
     "evalue": "ArgumentError: Package Kraft not found in current path:\n- Run `import Pkg; Pkg.add(\"Kraft\")` to install the Kraft package.\n",
     "output_type": "error",
     "traceback": [
      "ArgumentError: Package Kraft not found in current path:\n- Run `import Pkg; Pkg.add(\"Kraft\")` to install the Kraft package.\n",
      "",
      "Stacktrace:",
      " [1] require(::Module, ::Symbol) at ./loading.jl:893",
      " [2] include_string(::Function, ::Module, ::String, ::String) at ./loading.jl:1091"
     ]
    }
   ],
   "source": [
    "using BenchmarkTools\n",
    "using Plotly\n",
    "\n",
    "using Information"
   ]
  },
  {
   "cell_type": "code",
   "execution_count": 2,
   "metadata": {},
   "outputs": [
    {
     "data": {
      "text/plain": [
       "plot_v_1_v_2 (generic function with 1 method)"
      ]
     },
     "execution_count": 2,
     "metadata": {},
     "output_type": "execute_result"
    }
   ],
   "source": [
    "function plot_v_1_v_2(v_1, v_2)\n",
    "    \n",
    "    display(plot([scatter(name=\"V 1\", y = v_1), scatter(name=\"V 2\", y = v_2)]))\n",
    "    \n",
    "end"
   ]
  },
  {
   "cell_type": "code",
   "execution_count": 3,
   "metadata": {},
   "outputs": [
    {
     "ename": "LoadError",
     "evalue": "UndefVarError: shift_minimum not defined",
     "output_type": "error",
     "traceback": [
      "UndefVarError: shift_minimum not defined",
      "",
      "Stacktrace:",
      " [1] top-level scope at ./In[3]:1",
      " [2] include_string(::Function, ::Module, ::String, ::String) at ./loading.jl:1091"
     ]
    }
   ],
   "source": [
    "for (v_1, v_2) in (\n",
    "    (\n",
    "        [1,1,1],\n",
    "        [1,1,1],\n",
    "    ),\n",
    "    (\n",
    "        [1,2,3],\n",
    "        [10, 20, 30],\n",
    "    ),\n",
    "    (\n",
    "        shift_minimum(randn(100), \"0<\"),\n",
    "        shift_minimum(randn(100), \"0<\"),\n",
    "    )\n",
    ")\n",
    "    \n",
    "    plot_v_1_v_2(v_1, v_2)\n",
    "\n",
    "    display(compute_kld(v_1, v_2))\n",
    "    \n",
    "    display(compute_jsd(v_1, v_2))\n",
    "    \n",
    "    display(compute_zd(v_1, v_2))\n",
    "    \n",
    "end"
   ]
  }
 ],
 "metadata": {
  "kernelspec": {
   "display_name": "Julia 1.5.3",
   "language": "julia",
   "name": "julia-1.5"
  },
  "language_info": {
   "file_extension": ".jl",
   "mimetype": "application/julia",
   "name": "julia",
   "version": "1.5.3"
  }
 },
 "nbformat": 4,
 "nbformat_minor": 4
}
