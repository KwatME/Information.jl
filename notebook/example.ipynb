{
 "cells": [
  {
   "cell_type": "code",
   "execution_count": null,
   "metadata": {},
   "outputs": [],
   "source": [
    "using Revise"
   ]
  },
  {
   "cell_type": "code",
   "execution_count": null,
   "metadata": {},
   "outputs": [],
   "source": [
    "using Information"
   ]
  },
  {
   "cell_type": "code",
   "execution_count": null,
   "metadata": {},
   "outputs": [],
   "source": [
    "using Plot"
   ]
  },
  {
   "cell_type": "code",
   "execution_count": null,
   "metadata": {},
   "outputs": [],
   "source": [
    "use_style!()\n",
    "\n",
    ";"
   ]
  },
  {
   "cell_type": "markdown",
   "metadata": {},
   "source": [
    "## compute_s"
   ]
  },
  {
   "cell_type": "code",
   "execution_count": null,
   "metadata": {},
   "outputs": [],
   "source": [
    "compute_s"
   ]
  },
  {
   "cell_type": "markdown",
   "metadata": {},
   "source": [
    "## compute_kld"
   ]
  },
  {
   "cell_type": "markdown",
   "metadata": {},
   "source": [
    "## compute_idrs"
   ]
  },
  {
   "cell_type": "markdown",
   "metadata": {},
   "source": [
    "## compute_idrd"
   ]
  },
  {
   "cell_type": "markdown",
   "metadata": {},
   "source": [
    "## compute_ides"
   ]
  },
  {
   "cell_type": "markdown",
   "metadata": {},
   "source": [
    "## compute_ided"
   ]
  },
  {
   "cell_type": "code",
   "execution_count": null,
   "metadata": {},
   "outputs": [],
   "source": [
    "for (v1, v2) in (([1, 1, 1], [1, 1, 1]), ([1, 2, 3], [10, 20, 30]))\n",
    "\n",
    "    v1 = Float64.(v1)\n",
    "\n",
    "    v2 = Float64.(v2)\n",
    "\n",
    "    v3 = 0.2 * v1 + 0.8 * v2\n",
    "\n",
    "    display(plot_x_y((v1, v2)))\n",
    "\n",
    "    display(\n",
    "        plot_x_y(\n",
    "            (\n",
    "                compute_kld(v1, v2),\n",
    "                compute_idrs(v1, v2),\n",
    "                compute_idrs(v1, v2, v3),\n",
    "                compute_idrd(v1, v2),\n",
    "                compute_idrd(v1, v2, v3),\n",
    "                compute_ides(v1, v2),\n",
    "                compute_ided(v1, v2),\n",
    "            );\n",
    "            name_ = (\"kld\", \"idrs\", \"idrsw\", \"idrd\", \"idrdw\", \"ides\", \"ided\"),\n",
    "        ),\n",
    "    )\n",
    "\n",
    "end"
   ]
  },
  {
   "cell_type": "code",
   "execution_count": null,
   "metadata": {},
   "outputs": [],
   "source": [
    "using Support"
   ]
  },
  {
   "cell_type": "code",
   "execution_count": null,
   "metadata": {},
   "outputs": [],
   "source": [
    "using KernelDensity"
   ]
  },
  {
   "cell_type": "code",
   "execution_count": null,
   "metadata": {},
   "outputs": [],
   "source": [
    "using Plotly"
   ]
  },
  {
   "cell_type": "code",
   "execution_count": null,
   "metadata": {},
   "outputs": [],
   "source": [
    "n = 100\n",
    "\n",
    "v1 = shift_minimum(randn(n), \"0<\")\n",
    "\n",
    "v1_s = v1 .+ 1\n",
    "\n",
    "v2 = shift_minimum(randn(n), \"0<\")\n",
    "\n",
    "for (v1, v2) in ((v1, v1), (v1, v1_s), (v1, v2))\n",
    "\n",
    "    u1 = kde(v1)\n",
    "\n",
    "    u2 = kde(v2)\n",
    "\n",
    "    y1 = u1.density\n",
    "\n",
    "    y2 = u2.density\n",
    "\n",
    "    y3 = 0.2 * y1 + 0.8 * y2\n",
    "\n",
    "    display(\n",
    "        plot_x_y(\n",
    "            (collect(u1.x), collect(u2.x)),\n",
    "            (y1, y2);\n",
    "            layout = Layout(xaxis_title = \"Grid\", yaxis_title = \"Density\"),\n",
    "        ),\n",
    "    )\n",
    "\n",
    "    display(\n",
    "        plot_x_y(\n",
    "            (\n",
    "                compute_kld(y1, y2),\n",
    "                compute_idrs(y1, y2),\n",
    "                compute_idrs(y1, y2, y3),\n",
    "                compute_idrd(y1, y2),\n",
    "                compute_idrd(y1, y2, y3),\n",
    "                compute_ides(y1, y2),\n",
    "                compute_ided(y1, y2),\n",
    "            );\n",
    "            name_ = (\"kld\", \"idrs\", \"idrsw\", \"idrd\", \"idrdw\", \"ides\", \"ided\"),\n",
    "        ),\n",
    "    )\n",
    "\n",
    "end"
   ]
  },
  {
   "cell_type": "markdown",
   "metadata": {},
   "source": [
    "## compute_ic"
   ]
  },
  {
   "cell_type": "markdown",
   "metadata": {},
   "source": [
    "## compute_mi"
   ]
  },
  {
   "cell_type": "code",
   "execution_count": null,
   "metadata": {},
   "outputs": [],
   "source": [
    "compute_mi"
   ]
  },
  {
   "cell_type": "code",
   "execution_count": null,
   "metadata": {},
   "outputs": [],
   "source": [
    "compute_ic"
   ]
  },
  {
   "cell_type": "code",
   "execution_count": null,
   "metadata": {},
   "outputs": [],
   "source": [
    "v1 = Float64.(0:10)\n",
    "\n",
    "v2 = Float64.(0:10:100)\n",
    "\n",
    "b = kde((v1, v2); npoints = (8, 8))"
   ]
  },
  {
   "cell_type": "code",
   "execution_count": null,
   "metadata": {},
   "outputs": [],
   "source": [
    "x = collect(b.x)"
   ]
  },
  {
   "cell_type": "code",
   "execution_count": null,
   "metadata": {},
   "outputs": [],
   "source": [
    "y = collect(b.y)"
   ]
  },
  {
   "cell_type": "code",
   "execution_count": null,
   "metadata": {},
   "outputs": [],
   "source": [
    "z = b.density"
   ]
  }
 ],
 "metadata": {
  "kernelspec": {
   "display_name": "Julia 1.6.1",
   "language": "julia",
   "name": "julia-1.6"
  },
  "language_info": {
   "file_extension": ".jl",
   "mimetype": "application/julia",
   "name": "julia",
   "version": "1.6.1"
  }
 },
 "nbformat": 4,
 "nbformat_minor": 4
}
