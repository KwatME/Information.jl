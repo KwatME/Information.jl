{
 "cells": [
  {
   "cell_type": "code",
   "execution_count": null,
   "metadata": {},
   "outputs": [],
   "source": [
    "using BenchmarkTools\n",
    "using KernelDensity\n",
    "\n",
    "using Kraft\n",
    "using Plot\n",
    "\n",
    "using Information"
   ]
  },
  {
   "cell_type": "code",
   "execution_count": null,
   "metadata": {},
   "outputs": [],
   "source": [
    "use_style!()"
   ]
  },
  {
   "cell_type": "code",
   "execution_count": null,
   "metadata": {},
   "outputs": [],
   "source": [
    "for (v_1, v_2) in (([1, 1, 1], [1, 1, 1]), ([1, 2, 3], [10, 20, 30]))\n",
    "    plot_x_y((v_1, v_2))\n",
    "\n",
    "    plot_x_y(\n",
    "        (compute_kld(v_1, v_2), compute_jsd(v_1, v_2), compute_zd(v_1, v_2));\n",
    "        name_ = (\"KLD\", \"JSD\", \"ZD\"),\n",
    "    )\n",
    "\n",
    "end"
   ]
  },
  {
   "cell_type": "code",
   "execution_count": null,
   "metadata": {},
   "outputs": [],
   "source": [
    "v_random_1 = shift_minimum(randn(100), \"0<\")\n",
    "\n",
    "v_random_1_shift = v_random_1 .+ 1\n",
    "\n",
    "v_random_2 = shift_minimum(randn(100), \"0<\")\n",
    "\n",
    "for (v_1, v_2) in\n",
    "    ((v_random_1, v_random_1), (v_random_1, v_random_1_shift), (v_random_1, v_random_2))\n",
    "\n",
    "    u_1 = kde(v_1)\n",
    "\n",
    "    u_2 = kde(v_2)\n",
    "\n",
    "    plot_x_y((collect(u_1.x), collect(u_2.x)), (u_1.density, u_2.density))\n",
    "\n",
    "    plot_x_y(\n",
    "        (\n",
    "            compute_kld(u_1.density, u_2.density),\n",
    "            compute_jsd(u_1.density, u_2.density),\n",
    "            compute_zd(u_1.density, u_2.density),\n",
    "        );\n",
    "        name_ = (\"KLD\", \"JSD\", \"ZD\"),\n",
    "    )\n",
    "\n",
    "end"
   ]
  },
  {
   "cell_type": "code",
   "execution_count": null,
   "metadata": {},
   "outputs": [],
   "source": [
    "# TODO: if the size of a vector is less than 2, error\n",
    "# TODO: if the sizes of vectors are different, error"
   ]
  },
  {
   "cell_type": "code",
   "execution_count": null,
   "metadata": {},
   "outputs": [],
   "source": [
    "v_1 = collect(0:10)"
   ]
  },
  {
   "cell_type": "code",
   "execution_count": null,
   "metadata": {},
   "outputs": [],
   "source": [
    "v_2 = collect(0:10:100)"
   ]
  },
  {
   "cell_type": "code",
   "execution_count": null,
   "metadata": {},
   "outputs": [],
   "source": [
    "u = kde(v_1; npoints = 8)"
   ]
  },
  {
   "cell_type": "code",
   "execution_count": null,
   "metadata": {},
   "outputs": [],
   "source": [
    "u.x"
   ]
  },
  {
   "cell_type": "code",
   "execution_count": null,
   "metadata": {},
   "outputs": [],
   "source": [
    "u.density"
   ]
  },
  {
   "cell_type": "code",
   "execution_count": null,
   "metadata": {},
   "outputs": [],
   "source": [
    "kde((v_1, v_2); npoints = (8, 8))"
   ]
  }
 ],
 "metadata": {
  "kernelspec": {
   "display_name": "Julia 1.5.3",
   "language": "julia",
   "name": "julia-1.5"
  },
  "language_info": {
   "file_extension": ".jl",
   "mimetype": "application/julia",
   "name": "julia",
   "version": "1.5.3"
  }
 },
 "nbformat": 4,
 "nbformat_minor": 4
}
