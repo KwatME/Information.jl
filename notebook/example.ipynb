{
 "cells": [
  {
   "cell_type": "code",
   "execution_count": null,
   "metadata": {},
   "outputs": [],
   "source": [
    "using Plotly\n",
    "using KernelDensity\n",
    "\n",
    "using Kraft\n",
    "using Plot\n",
    "\n",
    "using Information"
   ]
  },
  {
   "cell_type": "code",
   "execution_count": null,
   "metadata": {},
   "outputs": [],
   "source": [
    "use_style!()"
   ]
  },
  {
   "cell_type": "code",
   "execution_count": null,
   "metadata": {},
   "outputs": [],
   "source": [
    "for (v_1, v_2) in (([1, 1, 1], [1, 1, 1]), ([1, 2, 3], [10, 20, 30]))\n",
    "    \n",
    "    display(plot_x_y((v_1, v_2)))\n",
    "    \n",
    "    display(plot_x_y((compute_kld(v_1, v_2), compute_jsd(v_1, v_2), compute_zd(v_1, v_2)); name_ = (\"KLD\", \"JSD\", \"ZD\")))\n",
    "    \n",
    "end"
   ]
  },
  {
   "cell_type": "code",
   "execution_count": null,
   "metadata": {},
   "outputs": [],
   "source": [
    "v_random_1 = shift_minimum(randn(100), \"0<\")\n",
    "\n",
    "v_random_1_shift = v_random_1 .+ 1\n",
    "\n",
    "v_random_2 = shift_minimum(randn(100), \"0<\")\n",
    "\n",
    "for (v_1, v_2) in ((v_random_1, v_random_1), (v_random_1, v_random_1_shift), (v_random_1, v_random_2))\n",
    "    \n",
    "    u_1 = kde(v_1)\n",
    "    \n",
    "    y_1 = u_1.density\n",
    "    \n",
    "    u_2 = kde(v_2)\n",
    "    \n",
    "    y_2 = u_2.density\n",
    "    \n",
    "    display(plot_x_y((collect(u_1.x), collect(u_2.x)), (y_1, y_2); layout = Layout(xaxis_title = \"Grid\", yaxis_title = \"Density\")))\n",
    "    \n",
    "    display(plot_x_y((compute_kld(y_1, y_2), compute_jsd(y_1, y_2), compute_zd(y_1, y_2)); name_ = (\"KLD\", \"JSD\", \"ZD\")))\n",
    "    \n",
    "end"
   ]
  },
  {
   "cell_type": "code",
   "execution_count": null,
   "metadata": {},
   "outputs": [],
   "source": [
    "v_1 = collect(0:10)"
   ]
  },
  {
   "cell_type": "code",
   "execution_count": null,
   "metadata": {},
   "outputs": [],
   "source": [
    "v_2 = collect(0:10:100)"
   ]
  },
  {
   "cell_type": "code",
   "execution_count": null,
   "metadata": {},
   "outputs": [],
   "source": [
    "b = kde((v_1, v_2); npoints = (8, 8))"
   ]
  },
  {
   "cell_type": "code",
   "execution_count": null,
   "metadata": {},
   "outputs": [],
   "source": [
    "x = collect(b.x)"
   ]
  },
  {
   "cell_type": "code",
   "execution_count": null,
   "metadata": {},
   "outputs": [],
   "source": [
    "y = collect(b.y)"
   ]
  },
  {
   "cell_type": "code",
   "execution_count": null,
   "metadata": {},
   "outputs": [],
   "source": [
    "z = (b.density)"
   ]
  }
 ],
 "metadata": {
  "kernelspec": {
   "display_name": "Julia 1.5.3",
   "language": "julia",
   "name": "julia-1.5"
  },
  "language_info": {
   "file_extension": ".jl",
   "mimetype": "application/julia",
   "name": "julia",
   "version": "1.5.3"
  }
 },
 "nbformat": 4,
 "nbformat_minor": 4
}
