{
 "cells": [
  {
   "cell_type": "code",
   "execution_count": null,
   "metadata": {},
   "outputs": [],
   "source": [
    "using Revise\n",
    "\n",
    "using KernelDensity\n",
    "using Plotly\n",
    "\n",
    "using Plot\n",
    "using Support\n",
    "\n",
    "using Information"
   ]
  },
  {
   "cell_type": "code",
   "execution_count": null,
   "metadata": {},
   "outputs": [],
   "source": [
    "use_style!()\n",
    "\n",
    ";"
   ]
  },
  {
   "cell_type": "markdown",
   "metadata": {},
   "source": [
    "## compute_s"
   ]
  },
  {
   "cell_type": "markdown",
   "metadata": {},
   "source": [
    "## compute_kld"
   ]
  },
  {
   "cell_type": "markdown",
   "metadata": {},
   "source": [
    "## compute_jsd"
   ]
  },
  {
   "cell_type": "markdown",
   "metadata": {},
   "source": [
    "## compute_zd"
   ]
  },
  {
   "cell_type": "code",
   "execution_count": null,
   "metadata": {},
   "outputs": [],
   "source": [
    "for (v1, v2) in (([1, 1, 1], [1, 1, 1]), ([1, 2, 3], [10, 20, 30]))\n",
    "    \n",
    "    v1 = Float64.(v1)\n",
    "    \n",
    "    v2 = Float64.(v2)\n",
    "    \n",
    "    display(plot_x_y((v1, v2)))\n",
    "    \n",
    "    display(plot_x_y((compute_kld(v1, v2), compute_jsd(v1, v2), compute_zd(v1, v2)); name_ = (\"KLD\", \"JSD\", \"ZD\")))\n",
    "    \n",
    "end"
   ]
  },
  {
   "cell_type": "code",
   "execution_count": null,
   "metadata": {},
   "outputs": [],
   "source": [
    "n = 100\n",
    "\n",
    "v1 = shift_minimum(randn(n), \"0<\")\n",
    "\n",
    "v1_s = v1 .+ 1\n",
    "\n",
    "v2 = shift_minimum(randn(n), \"0<\")\n",
    "\n",
    "for (v1, v2) in ((v1, v1), (v1, v1_s), (v1, v2))\n",
    "    \n",
    "    u1 = kde(v1)\n",
    "    \n",
    "    y1 = u1.density\n",
    "    \n",
    "    u2 = kde(v2)\n",
    "    \n",
    "    y2 = u2.density\n",
    "    \n",
    "    display(plot_x_y((collect(u1.x), collect(u2.x)), (y1, y2); layout = Layout(xaxis_title = \"Grid\", yaxis_title = \"Density\")))\n",
    "    \n",
    "    display(plot_x_y((compute_kld(y1, y2), compute_jsd(y1, y2), compute_zd(y1, y2)); name_ = (\"KLD\", \"JSD\", \"ZD\")))\n",
    "    \n",
    "end"
   ]
  },
  {
   "cell_type": "markdown",
   "metadata": {},
   "source": [
    "## compute_ic"
   ]
  },
  {
   "cell_type": "markdown",
   "metadata": {},
   "source": [
    "## compute_mi"
   ]
  },
  {
   "cell_type": "code",
   "execution_count": null,
   "metadata": {},
   "outputs": [],
   "source": [
    "v1 = Float64.(0:10)\n",
    "\n",
    "v2 = Float64.(0:10:100)\n",
    "\n",
    "b = kde((v1, v2); npoints = (8, 8))"
   ]
  },
  {
   "cell_type": "code",
   "execution_count": null,
   "metadata": {},
   "outputs": [],
   "source": [
    "x = collect(b.x)"
   ]
  },
  {
   "cell_type": "code",
   "execution_count": null,
   "metadata": {},
   "outputs": [],
   "source": [
    "y = collect(b.y)"
   ]
  },
  {
   "cell_type": "code",
   "execution_count": null,
   "metadata": {},
   "outputs": [],
   "source": [
    "z = b.density"
   ]
  }
 ],
 "metadata": {
  "kernelspec": {
   "display_name": "Julia 1.6.0",
   "language": "julia",
   "name": "julia-1.6"
  },
  "language_info": {
   "file_extension": ".jl",
   "mimetype": "application/julia",
   "name": "julia",
   "version": "1.6.0"
  }
 },
 "nbformat": 4,
 "nbformat_minor": 4
}
